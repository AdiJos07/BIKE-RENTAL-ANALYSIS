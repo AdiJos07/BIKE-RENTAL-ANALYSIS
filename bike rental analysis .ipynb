{
 "cells": [
  {
   "cell_type": "code",
   "execution_count": 1,
   "metadata": {},
   "outputs": [],
   "source": [
    "#Importing libraries\n",
    "import os\n",
    "import pandas as pd\n",
    "import numpy as np\n",
    "import matplotlib.pyplot as plt\n",
    "import seaborn as sns "
   ]
  },
  {
   "cell_type": "code",
   "execution_count": null,
   "metadata": {},
   "outputs": [],
   "source": [
    "#Setting work directory\n",
    "os.chdir(\"C:/Users/aditya joshi/Edwisor/Bike Rental Analysis\")\n",
    "print(os.getcwd())"
   ]
  },
  {
   "cell_type": "code",
   "execution_count": null,
   "metadata": {},
   "outputs": [],
   "source": [
    "#Reading csv file\n",
    "data = pd.read_csv(\"day.csv\", sep=\",\")"
   ]
  },
  {
   "cell_type": "code",
   "execution_count": null,
   "metadata": {},
   "outputs": [],
   "source": [
    "#Getting the number of rows and columns\n",
    "data.shape"
   ]
  },
  {
   "cell_type": "code",
   "execution_count": null,
   "metadata": {},
   "outputs": [],
   "source": [
    "#Getting first 5 rows\n",
    "print(data.head())\n",
    "\n",
    "#Getting data types of variables\n",
    "print(data.dtypes)"
   ]
  },
  {
   "cell_type": "code",
   "execution_count": null,
   "metadata": {},
   "outputs": [],
   "source": [
    "#Creating new dataframe containing required columns\n",
    "df1 = data.copy()\n",
    "df1.head()\n",
    "\n",
    "#Create new columns\n",
    "df1['actual_temp'] = data['temp'] * 39\n",
    "df1['actual_feel_temp'] = data['atemp'] * 50\n",
    "df1['actual_windspeed'] = data['windspeed'] * 67\n",
    "df1['actual_hum'] = data['hum'] * 100\n",
    "df1['actual_season'] = data['season'].replace([1,2,3,4],[\"Spring\",\"Summer\",\"Fall\",\"Winter\"])\n",
    "df1['actual_yr'] = data['yr'].replace([0,1],[\"2011\",\"2012\"])\n",
    "df1['actual_holiday'] = data['holiday'].replace([0,1],[\"Working day\",\"Holiday\"])\n",
    "df1['actual_weathersit'] = data['weathersit'].replace([1,2,3,4],[\"Clear\",\"Cloudy/Mist\",\"Rain/Snow/Fog\",\"Heavy Rain/Snow/Fog\"])"
   ]
  },
  {
   "cell_type": "code",
   "execution_count": null,
   "metadata": {},
   "outputs": [],
   "source": [
    "#Checking the data types of variables\n",
    "df1.dtypes\n",
    "\n",
    "#Changing data types\n",
    "df1['weathersit'] = df1['weathersit'].astype('category')\n",
    "df1['holiday'] = df1['holiday'].astype('category')\n",
    "df1['yr'] = df1['yr'].astype('category')\n",
    "df1['season'] = df1['season'].astype('category')\n",
    "df1['workingday'] = df1['workingday'].astype('category')\n",
    "df1['weekday'] = df1['weekday'].astype('category')\n",
    "df1['mnth'] = df1['mnth'].astype('category')\n",
    "df1['actual_season'] = df1['actual_season'].astype('category')\n",
    "df1['actual_yr'] = df1['actual_yr'].astype('category')\n",
    "df1['actual_holiday'] = df1['actual_holiday'].astype('category')\n",
    "df1['actual_weathersit'] = df1['actual_weathersit'].astype('category')\n",
    "\n",
    "df1.dtypes"
   ]
  },
  {
   "cell_type": "code",
   "execution_count": null,
   "metadata": {},
   "outputs": [],
   "source": [
    "#Checking count of values in categorical variables\n",
    "print(df1.workingday.value_counts())\n",
    "print(df1.weekday.value_counts())\n",
    "print(df1.mnth.value_counts())\n",
    "print(df1.actual_yr.value_counts())\n",
    "print(df1.actual_holiday.value_counts())\n",
    "print(df1.actual_weathersit.value_counts())"
   ]
  },
  {
   "cell_type": "code",
   "execution_count": null,
   "metadata": {},
   "outputs": [],
   "source": [
    "#Checking if there are missing values\n",
    "df1.isnull().sum()"
   ]
  },
  {
   "cell_type": "code",
   "execution_count": null,
   "metadata": {},
   "outputs": [],
   "source": [
    "#Checking bar graph of categorical Data using factorplot\n",
    "sns.set_style(\"whitegrid\")\n",
    "sns.catplot(dataset=df1, x='actual_season', kind= 'count',hieght=4,aspect=2)\n",
    "sns.catplot(dataset=df1, x='actual_weathersit', kind= 'count',height=4,aspect=2)\n",
    "sns.catplot(dataset=df1, x='workingday', kind= 'count',hieght=4,aspect=2)\n"
   ]
  },
  {
   "cell_type": "code",
   "execution_count": null,
   "metadata": {},
   "outputs": [],
   "source": [
    "#Checking distribution of numerical data using histogram\n",
    "plt.hist(dataset=df1, x='actual_temp', bins='auto', label='Temperature')\n",
    "plt.xlabel('Temperature in Celcius')\n",
    "plt.title(\"Temperature Distribution\")"
   ]
  },
  {
   "cell_type": "code",
   "execution_count": null,
   "metadata": {},
   "outputs": [],
   "source": [
    "#Checking distribution of numerical data using histogram\n",
    "plt.hist(dataset=df1, x='actual_hum', bins='auto', label='Temperature')\n",
    "plt.xlabel('Humidity')\n",
    "plt.title(\"Humidity Distribution\")"
   ]
  },
  {
   "cell_type": "code",
   "execution_count": null,
   "metadata": {},
   "outputs": [],
   "source": [
    "#Checking outliers in data using boxplot\n",
    "sns.boxplot(dataset=df1[['actual_temp','actual_feel_temp','actual_windspeed','actual_hum']])\n",
    "fig=plt.gcf()\n",
    "fig.set_size_inches(9,9)"
   ]
  },
  {
   "cell_type": "code",
   "execution_count": null,
   "metadata": {},
   "outputs": [],
   "source": [
    "#Removing outliers for Humidity\n",
    "h75, h25 = np.percentile(df1['actual_hum'], [75 ,25])\n",
    "print(h75,h25)\n",
    "iqr = h75 - h25\n",
    "print(iqr)\n",
    "min = h25 - (iqr*1.5)\n",
    "max = h75 + (iqr*1.5)\n",
    "print(min)\n",
    "print(max)\n",
    "\n",
    "df1 = df1.drop(df[df.iloc[:,19] < min].index)\n",
    "df1= df1.drop(df[df.iloc[:,19] > max].index)"
   ]
  },
  {
   "cell_type": "code",
   "execution_count": null,
   "metadata": {},
   "outputs": [],
   "source": [
    "#Removing outliers for Windspeed\n",
    "h75, h25 = np.percentile(df1['actual_windspeed'], [75 ,25])\n",
    "print(h75,h25)\n",
    "iqr = h75 - h25\n",
    "print(iqr)\n",
    "min = h25 - (iqr*1.5)\n",
    "max = h75 + (iqr*1.5)\n",
    "print(min)\n",
    "print(max)\n",
    "\n",
    "df1 = df1.drop(df[df.iloc[:,18] < min].index)\n",
    "df1 = df1.drop(df[df.iloc[:,18] > max].index)"
   ]
  },
  {
   "cell_type": "code",
   "execution_count": null,
   "metadata": {},
   "outputs": [],
   "source": [
    "#Checking collinearity using corelation matrix.\n",
    "corr_matt= df[:].corr()\n",
    "mask = np.array(corr_matt)\n",
    "mask[np.tril_indices_from(mask)] = False\n",
    "fig=plt.gcf()\n",
    "fig.set_size_inches(30,12)\n",
    "sns.heatmap(data=cor_mat,mask=mask,square=True,annot=True,cbar=True)"
   ]
  },
  {
   "cell_type": "code",
   "execution_count": null,
   "metadata": {},
   "outputs": [],
   "source": [
    "#Checking distribution of Temperature and Humdity count using scatter plot\n",
    "fig, axs = plt.subplots(1,2, figsize=(15, 5), sharey=True)\n",
    "axs[0].scatter(dataset=df1, x='actual_temp', y='cnt')\n",
    "axs[1].scatter(dataset=df1, x='actual_hum', y='cnt', color = 'red')\n",
    "fig.suptitle('Scatter plot for Temperature and Humidity')\n",
    "plt.xlabel(\"Humidity\")\n",
    "plt.ylabel(\"Count of bikes\")"
   ]
  },
  {
   "cell_type": "code",
   "execution_count": null,
   "metadata": {},
   "outputs": [],
   "source": [
    "#Checking distribution of Feel Temperature and Windspeed count using scatter plot\n",
    "fig, axs = plt.subplots(1,2, figsize=(15, 5), sharey=True)\n",
    "axs[0].scatter(dataset=df1, x='actual_feel_temp', y='cnt')\n",
    "axs[1].scatter(dataset=df1, x='actual_windspeed', y='cnt', color = 'red')\n",
    "fig.suptitle('Scatter plot for Feel Temperature and Windspeed')\n",
    "plt.xlabel(\"Windspeed\")\n",
    "plt.ylabel(\"Count of bikes\")"
   ]
  },
  {
   "cell_type": "code",
   "execution_count": null,
   "metadata": {},
   "outputs": [],
   "source": [
    "df1 = df1.drop(columnnames=['holiday','instant','dteday','atemp','casual','registered','actual_temp','actual_feel_temp',\n",
    "                      'actual_windspeed','actual_hum','actual_season','actual_yr','actual_holiday','actual_weathersit'])"
   ]
  },
  {
   "cell_type": "markdown",
   "metadata": {},
   "source": [
    "## DECISION TREE\n",
    "#MAPE: 18.40%\n",
    "#Accuracy: 81.60%"
   ]
  },
  {
   "cell_type": "code",
   "execution_count": null,
   "metadata": {},
   "outputs": [],
   "source": [
    "#Importing Libraries for decision tree\n",
    "from sklearn.model_selection import train_test_split\n",
    "from sklearn.tree import DecisionTreeRegressor"
   ]
  },
  {
   "cell_type": "code",
   "execution_count": null,
   "metadata": {},
   "outputs": [],
   "source": [
    "#Dividing data into train and test\n",
    "train,test = train_test_split(df1, test_size = 0.2, random_state = 123)"
   ]
  },
  {
   "cell_type": "code",
   "execution_count": null,
   "metadata": {},
   "outputs": [],
   "source": [
    "#Training the model\n",
    "dx1_model = DecisionTreeRegressor(random_state=123).fit(train.iloc[:,0:9], train.iloc[:,9])"
   ]
  },
  {
   "cell_type": "code",
   "execution_count": null,
   "metadata": {},
   "outputs": [],
   "source": [
    "#Predict the results of test data\n",
    "dx1_predictions = dx1_model.predict(test.iloc[:,0:9])"
   ]
  },
  {
   "cell_type": "code",
   "execution_count": null,
   "metadata": {},
   "outputs": [],
   "source": [
    "df1_dx1 = pd.DataFrame({'actual': test.iloc[:,9], 'pred': dt_predictions})\n",
    "df1_dx1.head()"
   ]
  },
  {
   "cell_type": "code",
   "execution_count": null,
   "metadata": {},
   "outputs": [],
   "source": [
    "#Functions for MAPE\n",
    "def MAPE(y_actual,y_pred):\n",
    "    mape = np.mean(np.abs((y_actual - y_pred)/y_actual))\n",
    "    return mape"
   ]
  },
  {
   "cell_type": "code",
   "execution_count": null,
   "metadata": {},
   "outputs": [],
   "source": [
    "#Calculate MAPE for decision tree\n",
    "MAPE(test.iloc[:,9],dt_predictions)\n",
    "#MAPE: 18.40%\n",
    "#Accuracy: 81.60%"
   ]
  },
  {
   "cell_type": "markdown",
   "metadata": {},
   "source": [
    "# Random Forest\n",
    "#MAPE: 13.10%\n",
    "#Accuracy:86.90%"
   ]
  },
  {
   "cell_type": "code",
   "execution_count": null,
   "metadata": {},
   "outputs": [],
   "source": [
    "#Importing library for RandomForestRegressor\n",
    "from sklearn.ensemble import RandomForestRegressor"
   ]
  },
  {
   "cell_type": "code",
   "execution_count": null,
   "metadata": {},
   "outputs": [],
   "source": [
    "#Trainning model\n",
    "rx1_model = RandomForestRegressor(n_estimators=500,random_state=123).fit(train.iloc[:,0:9], train.iloc[:,9])"
   ]
  },
  {
   "cell_type": "code",
   "execution_count": null,
   "metadata": {},
   "outputs": [],
   "source": [
    "#Predicting results of test data\n",
    "rx1_predictions = rx1_model.predict(test.iloc[:,0:9])"
   ]
  },
  {
   "cell_type": "code",
   "execution_count": null,
   "metadata": {},
   "outputs": [],
   "source": [
    "#Creating dataframe for actual values and predicted values\n",
    "df1_rx1 = pd.DataFrame({'actual': test.iloc[:,9], 'pred': rx1_predictions})\n",
    "df1_rx1.head()"
   ]
  },
  {
   "cell_type": "code",
   "execution_count": null,
   "metadata": {},
   "outputs": [],
   "source": [
    "#Calculating MAPE\n",
    "MAPE(test.iloc[:,9],rx1_predictions)\n",
    "#MAPE: 13.10%\n",
    "#Accuracy:86.90%"
   ]
  },
  {
   "cell_type": "markdown",
   "metadata": {},
   "source": [
    "# Linear Regression\n",
    "#MAPE:17.07%\n",
    "#Accuracy: 82.93%\n",
    "#Adjusted r2: 0.852\n",
    "#F-stat: 122.7"
   ]
  },
  {
   "cell_type": "code",
   "execution_count": null,
   "metadata": {},
   "outputs": [],
   "source": [
    "#importing libraries for Linear regression\n",
    "import statsmodels.api as sm\n",
    "from sklearn.metrics import mean_squared_error"
   ]
  },
  {
   "cell_type": "code",
   "execution_count": null,
   "metadata": {},
   "outputs": [],
   "source": [
    "#Trainning model\n",
    "lx1_model = sm.OLS(train.iloc[:,9].astype(float), train.iloc[:,0:9].astype(float)).fit()"
   ]
  },
  {
   "cell_type": "code",
   "execution_count": null,
   "metadata": {
    "scrolled": true
   },
   "outputs": [],
   "source": [
    "#Checking summary of model\n",
    "lx1_model.summary()"
   ]
  },
  {
   "cell_type": "code",
   "execution_count": null,
   "metadata": {},
   "outputs": [],
   "source": [
    "#Predicting results of test data\n",
    "lx1_predictions = lx1_model.predict(test.iloc[:,0:9])"
   ]
  },
  {
   "cell_type": "code",
   "execution_count": null,
   "metadata": {},
   "outputs": [],
   "source": [
    "##Creating dataframe for actual values and predicted values\n",
    "df1_lx1 = pd.DataFrame({'actual': test.iloc[:,9], 'pred': lx1_predictions})\n",
    "df1_lx1.head()"
   ]
  },
  {
   "cell_type": "code",
   "execution_count": null,
   "metadata": {},
   "outputs": [],
   "source": [
    "#Calclulating MAPE\n",
    "MAPE(test.iloc[:,9],lx1_predictions)\n",
    "#MAPE:19.08%\n",
    "#Accuracy: 81.92% \n",
    "#Adjusted r2: 0.967\n",
    "#F-stat: 1852"
   ]
  },
  {
   "cell_type": "code",
   "execution_count": null,
   "metadata": {},
   "outputs": [],
   "source": [
    "#Creating continuous data. Saving target variable first\n",
    "train_lx1 = train[['cnt','temp','hum','windspeed']]\n",
    "test_lx1 = test[['cnt','temp','hum','windspeed']]"
   ]
  },
  {
   "cell_type": "code",
   "execution_count": null,
   "metadata": {},
   "outputs": [],
   "source": [
    "##Creating dummies categorical variables\n",
    "categorical_names = [\"season\", \"yr\", \"mnth\", \"weekday\", \"workingday\", \"weathersit\"]\n",
    "\n",
    "for i in categorical_names:\n",
    "    temp_1 = pd.get_dummies(train[i], prefix = i)\n",
    "    temp_2 = pd.get_dummies(test[i], prefix = i)\n",
    "    train_lx1 = train_lx1.join(temp_1)\n",
    "    test_lx1 = test_lx1.join(temp_2)"
   ]
  },
  {
   "cell_type": "code",
   "execution_count": null,
   "metadata": {},
   "outputs": [],
   "source": [
    "#Trainning the model\n",
    "lx1_model = sm.OLS(train_lx1.iloc[:,0].astype(float), train_lx1.iloc[:,1:34].astype(float)).fit()"
   ]
  },
  {
   "cell_type": "code",
   "execution_count": null,
   "metadata": {
    "scrolled": true
   },
   "outputs": [],
   "source": [
    "#summarzing the model\n",
    "lx1_model.summary()"
   ]
  },
  {
   "cell_type": "code",
   "execution_count": null,
   "metadata": {},
   "outputs": [],
   "source": [
    "#Predicting results of test data\n",
    "lx1_predictions = lx1_model.predict(test_lx1.iloc[:,1:34])"
   ]
  },
  {
   "cell_type": "code",
   "execution_count": null,
   "metadata": {},
   "outputs": [],
   "source": [
    "##Creating dataframe for actual values and predicted values\n",
    "df1_lx1 = pd.DataFrame({'actual': test_lx1.iloc[:,0], 'pred': lx1_predictions})\n",
    "df1_lx1.head()"
   ]
  },
  {
   "cell_type": "code",
   "execution_count": null,
   "metadata": {},
   "outputs": [],
   "source": [
    "#Calclulate MAPE\n",
    "MAPE(test_lx1.iloc[:,0],lx1_predictions)\n",
    "#MAPE:17.07%\n",
    "#Accuracy: 82.93%\n",
    "#Adjusted r2: 0.852\n",
    "#F-stat: 122.7"
   ]
  },
  {
   "cell_type": "code",
   "execution_count": null,
   "metadata": {},
   "outputs": [],
   "source": []
  }
 ],
 "metadata": {
  "kernelspec": {
   "display_name": "Python 3",
   "language": "python",
   "name": "python3"
  },
  "language_info": {
   "codemirror_mode": {
    "name": "ipython",
    "version": 3
   },
   "file_extension": ".py",
   "mimetype": "text/x-python",
   "name": "python",
   "nbconvert_exporter": "python",
   "pygments_lexer": "ipython3",
   "version": "3.7.3"
  }
 },
 "nbformat": 4,
 "nbformat_minor": 2
}
